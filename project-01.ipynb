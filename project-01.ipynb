{
 "cells": [
  {
   "cell_type": "code",
   "execution_count": 95,
   "metadata": {},
   "outputs": [],
   "source": [
    "import seaborn as sns\n",
    "import pickle \n"
   ]
  },
  {
   "cell_type": "code",
   "execution_count": 96,
   "metadata": {},
   "outputs": [],
   "source": [
    "import pandas as pd\n",
    "import numpy as np"
   ]
  },
  {
   "cell_type": "code",
   "execution_count": 97,
   "metadata": {},
   "outputs": [],
   "source": [
    "pd.set_option('display.max_rows', 200)"
   ]
  },
  {
   "cell_type": "code",
   "execution_count": 98,
   "metadata": {},
   "outputs": [],
   "source": [
    "year19_path_list=  ['turnstile_190504.txt', 'turnstile_190511.txt','turnstile_190518.txt','turnstile_190525.txt']\n",
    "year18_path_list=  ['turnstile_180505.txt', 'turnstile_180512.txt','turnstile_180519.txt','turnstile_180526.txt']"
   ]
  },
  {
   "cell_type": "code",
   "execution_count": 99,
   "metadata": {},
   "outputs": [],
   "source": [
    "def load_data(list_of_datasets):\n",
    "    year = pd.concat(map(lambda x: pd.read_csv(x,parse_dates=[['DATE','TIME']]), \n",
    "        list_of_datasets))\n",
    "    return year"
   ]
  },
  {
   "cell_type": "code",
   "execution_count": 100,
   "metadata": {},
   "outputs": [],
   "source": [
    "def preprocessing(dataframe):\n",
    "    dataframe.reset_index(drop=True,inplace=True)\n",
    "    dataframe.drop(['C/A','LINENAME','DIVISION', 'DESC'],axis=1,inplace = True)\n",
    "    dataframe['UNIT/SCP']= dataframe['UNIT'] + dataframe['SCP'] #creating an ideantifier column \n",
    "    dataframe =  dataframe[(dataframe['DATE_TIME'].dt.month > 4)]\n",
    "    dataframe = dataframe.sort_values(['STATION', 'UNIT/SCP','DATE_TIME'], ascending= True)\n",
    "    return  dataframe\n",
    "    "
   ]
  },
  {
   "cell_type": "code",
   "execution_count": 101,
   "metadata": {},
   "outputs": [],
   "source": [
    "def calculate_entries_column(dataframe):\n",
    "    dataframe.reset_index(drop=True,inplace=True)\n",
    "    dataframe['ENTRIES_DIFF']=0\n",
    "    for index, row in dataframe.iterrows():\n",
    "        if index == 0:\n",
    "            continue\n",
    "        if row['UNIT/SCP'] == dataframe['UNIT/SCP'][index-1] and row['STATION'] == dataframe['STATION'][index-1] and row['ENTRIES'] > int(dataframe['ENTRIES'][index-1]):\n",
    "            dataframe['ENTRIES_DIFF'][index] = row['ENTRIES'] - int(dataframe['ENTRIES'][index-1])\n",
    "            \n",
    "    return dataframe"
   ]
  },
  {
   "cell_type": "code",
   "execution_count": 129,
   "metadata": {},
   "outputs": [],
   "source": [
    "def calculate_exits_column(dataframe):\n",
    "    dataframe.columns=dataframe.columns.str.strip()\n",
    "    dataframe.reset_index(drop=True,inplace=True)\n",
    "    dataframe['EXITS_DIFF']=0\n",
    "    for index, row in dataframe.iterrows():\n",
    "        if index == 0:\n",
    "            continue\n",
    "        if row['UNIT/SCP'] == dataframe['UNIT/SCP'][index-1] and row['STATION'] == dataframe['STATION'][index-1] and row['EXITS'] > int(dataframe['EXITS'][index-1]):\n",
    "            dataframe['EXITS_DIFF'][index] = row['EXITS'] - int(dataframe['EXITS'][index-1])\n",
    "            \n",
    "    return dataframe"
   ]
  },
  {
   "cell_type": "code",
   "execution_count": 103,
   "metadata": {},
   "outputs": [],
   "source": [
    "def calculate_total_traffic(dataframe):\n",
    "    dataframe['TOTAL_TRAFFIC']= dataframe['ENTRIES_DIFF'] + dataframe['EXITS_DIFF']\n",
    "    return dataframe"
   ]
  },
  {
   "cell_type": "code",
   "execution_count": 104,
   "metadata": {},
   "outputs": [],
   "source": [
    "def generate_stat(dataframe):\n",
    "    year19_traffic_per_station = dataframe.groupby('STATION').TOTAL_TRAFFIC.sum()\n",
    "    year19_traffic_per_station = pd.DataFrame(year19_traffic_per_station)\n",
    "    sorted_traffic = year19_traffic_per_station.sort_values(by=['TOTAL_TRAFFIC'], ascending= False)\n",
    "    return sorted_traffic"
   ]
  },
  {
   "cell_type": "code",
   "execution_count": 105,
   "metadata": {},
   "outputs": [],
   "source": [
    "def pickle_df(dataframe):\n",
    "    with open(\"MTA_19.pickle\",\"wb\")as to_write:\n",
    "        pickle.dump(dataframe,to_write)"
   ]
  },
  {
   "cell_type": "code",
   "execution_count": 125,
   "metadata": {},
   "outputs": [],
   "source": [
    "def read_pickle(file_name):\n",
    "    with open(file_name, 'rb') as f:\n",
    "        dataframe = pickle.load(f)\n",
    "        return dataframe"
   ]
  },
  {
   "cell_type": "code",
   "execution_count": 127,
   "metadata": {},
   "outputs": [],
   "source": [
    "def init_dataframe(years_list):\n",
    "    year=load_data(years_list)\n",
    "    year = preprocessing(year)\n",
    "    year = calculate_entries_column(year)\n",
    "    year = calculate_exits_column(year)\n",
    "    return year "
   ]
  },
  {
   "cell_type": "code",
   "execution_count": 148,
   "metadata": {},
   "outputs": [],
   "source": [
    "def graph_stats(stats):\n",
    "    stats = stats.head(5)\n",
    "    stats = stats.reset_index()\n",
    "    stats.columns\n",
    "    sns.barplot(x=stats['TOTAL_TRAFFIC'], y=stats['STATION'])"
   ]
  },
  {
   "cell_type": "code",
   "execution_count": 10,
   "metadata": {},
   "outputs": [],
   "source": [
    "year19=load_data(year19_path_list)"
   ]
  },
  {
   "cell_type": "code",
   "execution_count": 11,
   "metadata": {},
   "outputs": [],
   "source": [
    "year19 = preprocessing(year19)"
   ]
  },
  {
   "cell_type": "code",
   "execution_count": 12,
   "metadata": {
    "scrolled": true
   },
   "outputs": [
    {
     "name": "stderr",
     "output_type": "stream",
     "text": [
      "C:\\ProgramData\\Anaconda3\\lib\\site-packages\\ipykernel_launcher.py:8: SettingWithCopyWarning: \n",
      "A value is trying to be set on a copy of a slice from a DataFrame\n",
      "\n",
      "See the caveats in the documentation: http://pandas.pydata.org/pandas-docs/stable/user_guide/indexing.html#returning-a-view-versus-a-copy\n",
      "  \n"
     ]
    }
   ],
   "source": [
    "year19 = calculate_entries_column(year19)"
   ]
  },
  {
   "cell_type": "code",
   "execution_count": 13,
   "metadata": {},
   "outputs": [
    {
     "name": "stderr",
     "output_type": "stream",
     "text": [
      "C:\\ProgramData\\Anaconda3\\lib\\site-packages\\ipykernel_launcher.py:9: SettingWithCopyWarning: \n",
      "A value is trying to be set on a copy of a slice from a DataFrame\n",
      "\n",
      "See the caveats in the documentation: http://pandas.pydata.org/pandas-docs/stable/user_guide/indexing.html#returning-a-view-versus-a-copy\n",
      "  if __name__ == '__main__':\n"
     ]
    }
   ],
   "source": [
    "year19 = calculate_exits_column(year19)"
   ]
  },
  {
   "cell_type": "code",
   "execution_count": 14,
   "metadata": {},
   "outputs": [],
   "source": [
    "#HANDLING OUTLIERS "
   ]
  },
  {
   "cell_type": "code",
   "execution_count": 15,
   "metadata": {},
   "outputs": [
    {
     "name": "stderr",
     "output_type": "stream",
     "text": [
      "C:\\ProgramData\\Anaconda3\\lib\\site-packages\\ipykernel_launcher.py:1: SettingWithCopyWarning: \n",
      "A value is trying to be set on a copy of a slice from a DataFrame\n",
      "\n",
      "See the caveats in the documentation: http://pandas.pydata.org/pandas-docs/stable/user_guide/indexing.html#returning-a-view-versus-a-copy\n",
      "  \"\"\"Entry point for launching an IPython kernel.\n"
     ]
    }
   ],
   "source": [
    "year19['ENTRIES_DIFF'][81250] = 142"
   ]
  },
  {
   "cell_type": "code",
   "execution_count": 16,
   "metadata": {},
   "outputs": [
    {
     "name": "stderr",
     "output_type": "stream",
     "text": [
      "C:\\ProgramData\\Anaconda3\\lib\\site-packages\\ipykernel_launcher.py:1: SettingWithCopyWarning: \n",
      "A value is trying to be set on a copy of a slice from a DataFrame\n",
      "\n",
      "See the caveats in the documentation: http://pandas.pydata.org/pandas-docs/stable/user_guide/indexing.html#returning-a-view-versus-a-copy\n",
      "  \"\"\"Entry point for launching an IPython kernel.\n"
     ]
    }
   ],
   "source": [
    "year19['ENTRIES_DIFF'][17616] = 142"
   ]
  },
  {
   "cell_type": "code",
   "execution_count": 17,
   "metadata": {},
   "outputs": [
    {
     "name": "stderr",
     "output_type": "stream",
     "text": [
      "C:\\ProgramData\\Anaconda3\\lib\\site-packages\\ipykernel_launcher.py:1: SettingWithCopyWarning: \n",
      "A value is trying to be set on a copy of a slice from a DataFrame\n",
      "\n",
      "See the caveats in the documentation: http://pandas.pydata.org/pandas-docs/stable/user_guide/indexing.html#returning-a-view-versus-a-copy\n",
      "  \"\"\"Entry point for launching an IPython kernel.\n"
     ]
    }
   ],
   "source": [
    "year19['EXITS_DIFF'][81250] = 0"
   ]
  },
  {
   "cell_type": "code",
   "execution_count": 18,
   "metadata": {},
   "outputs": [
    {
     "name": "stderr",
     "output_type": "stream",
     "text": [
      "C:\\ProgramData\\Anaconda3\\lib\\site-packages\\ipykernel_launcher.py:1: SettingWithCopyWarning: \n",
      "A value is trying to be set on a copy of a slice from a DataFrame\n",
      "\n",
      "See the caveats in the documentation: http://pandas.pydata.org/pandas-docs/stable/user_guide/indexing.html#returning-a-view-versus-a-copy\n",
      "  \"\"\"Entry point for launching an IPython kernel.\n"
     ]
    }
   ],
   "source": [
    "year19['EXITS_DIFF'][17616] = 0"
   ]
  },
  {
   "cell_type": "code",
   "execution_count": 19,
   "metadata": {},
   "outputs": [],
   "source": [
    "year19 = calculate_total_traffic(year19)\n"
   ]
  },
  {
   "cell_type": "code",
   "execution_count": 107,
   "metadata": {},
   "outputs": [],
   "source": [
    "pickle_df(year19)"
   ]
  },
  {
   "cell_type": "code",
   "execution_count": 132,
   "metadata": {},
   "outputs": [],
   "source": [
    "year19_pickle = read_pickle('MTA_19.pickle')"
   ]
  },
  {
   "cell_type": "code",
   "execution_count": 133,
   "metadata": {},
   "outputs": [
    {
     "data": {
      "text/html": [
       "<div>\n",
       "<style scoped>\n",
       "    .dataframe tbody tr th:only-of-type {\n",
       "        vertical-align: middle;\n",
       "    }\n",
       "\n",
       "    .dataframe tbody tr th {\n",
       "        vertical-align: top;\n",
       "    }\n",
       "\n",
       "    .dataframe thead th {\n",
       "        text-align: right;\n",
       "    }\n",
       "</style>\n",
       "<table border=\"1\" class=\"dataframe\">\n",
       "  <thead>\n",
       "    <tr style=\"text-align: right;\">\n",
       "      <th></th>\n",
       "      <th>DATE_TIME</th>\n",
       "      <th>UNIT</th>\n",
       "      <th>SCP</th>\n",
       "      <th>STATION</th>\n",
       "      <th>ENTRIES</th>\n",
       "      <th>EXITS</th>\n",
       "      <th>UNIT/SCP</th>\n",
       "      <th>ENTRIES_DIFF</th>\n",
       "      <th>EXITS_DIFF</th>\n",
       "      <th>TOTAL_TRAFFIC</th>\n",
       "    </tr>\n",
       "  </thead>\n",
       "  <tbody>\n",
       "    <tr>\n",
       "      <td>0</td>\n",
       "      <td>2019-05-01 00:00:00</td>\n",
       "      <td>R248</td>\n",
       "      <td>00-00-00</td>\n",
       "      <td>1 AV</td>\n",
       "      <td>14654538</td>\n",
       "      <td>16381430</td>\n",
       "      <td>R24800-00-00</td>\n",
       "      <td>0</td>\n",
       "      <td>0</td>\n",
       "      <td>0</td>\n",
       "    </tr>\n",
       "    <tr>\n",
       "      <td>1</td>\n",
       "      <td>2019-05-01 04:00:00</td>\n",
       "      <td>R248</td>\n",
       "      <td>00-00-00</td>\n",
       "      <td>1 AV</td>\n",
       "      <td>14654538</td>\n",
       "      <td>16381436</td>\n",
       "      <td>R24800-00-00</td>\n",
       "      <td>0</td>\n",
       "      <td>6</td>\n",
       "      <td>6</td>\n",
       "    </tr>\n",
       "    <tr>\n",
       "      <td>2</td>\n",
       "      <td>2019-05-01 08:00:00</td>\n",
       "      <td>R248</td>\n",
       "      <td>00-00-00</td>\n",
       "      <td>1 AV</td>\n",
       "      <td>14654889</td>\n",
       "      <td>16382236</td>\n",
       "      <td>R24800-00-00</td>\n",
       "      <td>351</td>\n",
       "      <td>800</td>\n",
       "      <td>1151</td>\n",
       "    </tr>\n",
       "    <tr>\n",
       "      <td>3</td>\n",
       "      <td>2019-05-01 12:00:00</td>\n",
       "      <td>R248</td>\n",
       "      <td>00-00-00</td>\n",
       "      <td>1 AV</td>\n",
       "      <td>14656102</td>\n",
       "      <td>16383435</td>\n",
       "      <td>R24800-00-00</td>\n",
       "      <td>1213</td>\n",
       "      <td>1199</td>\n",
       "      <td>2412</td>\n",
       "    </tr>\n",
       "    <tr>\n",
       "      <td>4</td>\n",
       "      <td>2019-05-01 16:00:00</td>\n",
       "      <td>R248</td>\n",
       "      <td>00-00-00</td>\n",
       "      <td>1 AV</td>\n",
       "      <td>14656924</td>\n",
       "      <td>16384214</td>\n",
       "      <td>R24800-00-00</td>\n",
       "      <td>822</td>\n",
       "      <td>779</td>\n",
       "      <td>1601</td>\n",
       "    </tr>\n",
       "    <tr>\n",
       "      <td>...</td>\n",
       "      <td>...</td>\n",
       "      <td>...</td>\n",
       "      <td>...</td>\n",
       "      <td>...</td>\n",
       "      <td>...</td>\n",
       "      <td>...</td>\n",
       "      <td>...</td>\n",
       "      <td>...</td>\n",
       "      <td>...</td>\n",
       "      <td>...</td>\n",
       "    </tr>\n",
       "    <tr>\n",
       "      <td>89002</td>\n",
       "      <td>2019-05-03 05:00:00</td>\n",
       "      <td>R326</td>\n",
       "      <td>00-05-01</td>\n",
       "      <td>ZEREGA AV</td>\n",
       "      <td>39</td>\n",
       "      <td>145</td>\n",
       "      <td>R32600-05-01</td>\n",
       "      <td>0</td>\n",
       "      <td>0</td>\n",
       "      <td>0</td>\n",
       "    </tr>\n",
       "    <tr>\n",
       "      <td>89003</td>\n",
       "      <td>2019-05-03 09:00:00</td>\n",
       "      <td>R326</td>\n",
       "      <td>00-05-01</td>\n",
       "      <td>ZEREGA AV</td>\n",
       "      <td>39</td>\n",
       "      <td>145</td>\n",
       "      <td>R32600-05-01</td>\n",
       "      <td>0</td>\n",
       "      <td>0</td>\n",
       "      <td>0</td>\n",
       "    </tr>\n",
       "    <tr>\n",
       "      <td>89004</td>\n",
       "      <td>2019-05-03 13:00:00</td>\n",
       "      <td>R326</td>\n",
       "      <td>00-05-01</td>\n",
       "      <td>ZEREGA AV</td>\n",
       "      <td>39</td>\n",
       "      <td>145</td>\n",
       "      <td>R32600-05-01</td>\n",
       "      <td>0</td>\n",
       "      <td>0</td>\n",
       "      <td>0</td>\n",
       "    </tr>\n",
       "    <tr>\n",
       "      <td>89005</td>\n",
       "      <td>2019-05-03 17:00:00</td>\n",
       "      <td>R326</td>\n",
       "      <td>00-05-01</td>\n",
       "      <td>ZEREGA AV</td>\n",
       "      <td>39</td>\n",
       "      <td>145</td>\n",
       "      <td>R32600-05-01</td>\n",
       "      <td>0</td>\n",
       "      <td>0</td>\n",
       "      <td>0</td>\n",
       "    </tr>\n",
       "    <tr>\n",
       "      <td>89006</td>\n",
       "      <td>2019-05-03 21:00:00</td>\n",
       "      <td>R326</td>\n",
       "      <td>00-05-01</td>\n",
       "      <td>ZEREGA AV</td>\n",
       "      <td>39</td>\n",
       "      <td>145</td>\n",
       "      <td>R32600-05-01</td>\n",
       "      <td>0</td>\n",
       "      <td>0</td>\n",
       "      <td>0</td>\n",
       "    </tr>\n",
       "  </tbody>\n",
       "</table>\n",
       "<p>89007 rows × 10 columns</p>\n",
       "</div>"
      ],
      "text/plain": [
       "                DATE_TIME  UNIT       SCP    STATION   ENTRIES     EXITS  \\\n",
       "0     2019-05-01 00:00:00  R248  00-00-00       1 AV  14654538  16381430   \n",
       "1     2019-05-01 04:00:00  R248  00-00-00       1 AV  14654538  16381436   \n",
       "2     2019-05-01 08:00:00  R248  00-00-00       1 AV  14654889  16382236   \n",
       "3     2019-05-01 12:00:00  R248  00-00-00       1 AV  14656102  16383435   \n",
       "4     2019-05-01 16:00:00  R248  00-00-00       1 AV  14656924  16384214   \n",
       "...                   ...   ...       ...        ...       ...       ...   \n",
       "89002 2019-05-03 05:00:00  R326  00-05-01  ZEREGA AV        39       145   \n",
       "89003 2019-05-03 09:00:00  R326  00-05-01  ZEREGA AV        39       145   \n",
       "89004 2019-05-03 13:00:00  R326  00-05-01  ZEREGA AV        39       145   \n",
       "89005 2019-05-03 17:00:00  R326  00-05-01  ZEREGA AV        39       145   \n",
       "89006 2019-05-03 21:00:00  R326  00-05-01  ZEREGA AV        39       145   \n",
       "\n",
       "           UNIT/SCP  ENTRIES_DIFF  EXITS_DIFF  TOTAL_TRAFFIC  \n",
       "0      R24800-00-00             0           0              0  \n",
       "1      R24800-00-00             0           6              6  \n",
       "2      R24800-00-00           351         800           1151  \n",
       "3      R24800-00-00          1213        1199           2412  \n",
       "4      R24800-00-00           822         779           1601  \n",
       "...             ...           ...         ...            ...  \n",
       "89002  R32600-05-01             0           0              0  \n",
       "89003  R32600-05-01             0           0              0  \n",
       "89004  R32600-05-01             0           0              0  \n",
       "89005  R32600-05-01             0           0              0  \n",
       "89006  R32600-05-01             0           0              0  \n",
       "\n",
       "[89007 rows x 10 columns]"
      ]
     },
     "execution_count": 133,
     "metadata": {},
     "output_type": "execute_result"
    }
   ],
   "source": [
    "year19_pickle"
   ]
  },
  {
   "cell_type": "code",
   "execution_count": 140,
   "metadata": {},
   "outputs": [],
   "source": [
    "stats = generate_stat(year19_pickle)"
   ]
  },
  {
   "cell_type": "code",
   "execution_count": 149,
   "metadata": {},
   "outputs": [
    {
     "data": {
      "image/png": "[encoded data removed]",
      "text/plain": [
       "<Figure size 432x288 with 1 Axes>"
      ]
     },
     "metadata": {
      "needs_background": "light"
     },
     "output_type": "display_data"
    }
   ],
   "source": [
    "graph_stats(stats)"
   ]
  },
  {
   "cell_type": "code",
   "execution_count": null,
   "metadata": {},
   "outputs": [],
   "source": []
  },
  {
   "cell_type": "code",
   "execution_count": null,
   "metadata": {
    "scrolled": true
   },
   "outputs": [],
   "source": []
  },
  {
   "cell_type": "code",
   "execution_count": null,
   "metadata": {},
   "outputs": [],
   "source": []
  },
  {
   "cell_type": "code",
   "execution_count": 130,
   "metadata": {},
   "outputs": [
    {
     "name": "stderr",
     "output_type": "stream",
     "text": [
      "/Users/hi/anaconda3/lib/python3.6/site-packages/ipykernel_launcher.py:8: SettingWithCopyWarning: \n",
      "A value is trying to be set on a copy of a slice from a DataFrame\n",
      "\n",
      "See the caveats in the documentation: http://pandas.pydata.org/pandas-docs/stable/user_guide/indexing.html#returning-a-view-versus-a-copy\n",
      "  \n",
      "/Users/hi/anaconda3/lib/python3.6/site-packages/ipykernel_launcher.py:9: SettingWithCopyWarning: \n",
      "A value is trying to be set on a copy of a slice from a DataFrame\n",
      "\n",
      "See the caveats in the documentation: http://pandas.pydata.org/pandas-docs/stable/user_guide/indexing.html#returning-a-view-versus-a-copy\n",
      "  if __name__ == '__main__':\n"
     ]
    }
   ],
   "source": [
    "year18 = main_fun(year18_path_list)"
   ]
  },
  {
   "cell_type": "code",
   "execution_count": 131,
   "metadata": {},
   "outputs": [
    {
     "data": {
      "text/html": [
       "<div>\n",
       "<style scoped>\n",
       "    .dataframe tbody tr th:only-of-type {\n",
       "        vertical-align: middle;\n",
       "    }\n",
       "\n",
       "    .dataframe tbody tr th {\n",
       "        vertical-align: top;\n",
       "    }\n",
       "\n",
       "    .dataframe thead th {\n",
       "        text-align: right;\n",
       "    }\n",
       "</style>\n",
       "<table border=\"1\" class=\"dataframe\">\n",
       "  <thead>\n",
       "    <tr style=\"text-align: right;\">\n",
       "      <th></th>\n",
       "      <th>DATE_TIME</th>\n",
       "      <th>UNIT</th>\n",
       "      <th>SCP</th>\n",
       "      <th>STATION</th>\n",
       "      <th>ENTRIES</th>\n",
       "      <th>EXITS</th>\n",
       "      <th>UNIT/SCP</th>\n",
       "      <th>ENTRIES_DIFF</th>\n",
       "      <th>EXITS_DIFF</th>\n",
       "    </tr>\n",
       "  </thead>\n",
       "  <tbody>\n",
       "    <tr>\n",
       "      <td>0</td>\n",
       "      <td>2018-05-01 00:00:00</td>\n",
       "      <td>R248</td>\n",
       "      <td>00-00-00</td>\n",
       "      <td>1 AV</td>\n",
       "      <td>13478886</td>\n",
       "      <td>15083094</td>\n",
       "      <td>R24800-00-00</td>\n",
       "      <td>0</td>\n",
       "      <td>0</td>\n",
       "    </tr>\n",
       "    <tr>\n",
       "      <td>1</td>\n",
       "      <td>2018-05-01 04:00:00</td>\n",
       "      <td>R248</td>\n",
       "      <td>00-00-00</td>\n",
       "      <td>1 AV</td>\n",
       "      <td>13478886</td>\n",
       "      <td>15083094</td>\n",
       "      <td>R24800-00-00</td>\n",
       "      <td>0</td>\n",
       "      <td>0</td>\n",
       "    </tr>\n",
       "    <tr>\n",
       "      <td>2</td>\n",
       "      <td>2018-05-01 08:00:00</td>\n",
       "      <td>R248</td>\n",
       "      <td>00-00-00</td>\n",
       "      <td>1 AV</td>\n",
       "      <td>13479249</td>\n",
       "      <td>15084001</td>\n",
       "      <td>R24800-00-00</td>\n",
       "      <td>363</td>\n",
       "      <td>907</td>\n",
       "    </tr>\n",
       "    <tr>\n",
       "      <td>3</td>\n",
       "      <td>2018-05-01 12:00:00</td>\n",
       "      <td>R248</td>\n",
       "      <td>00-00-00</td>\n",
       "      <td>1 AV</td>\n",
       "      <td>13480288</td>\n",
       "      <td>15085460</td>\n",
       "      <td>R24800-00-00</td>\n",
       "      <td>1039</td>\n",
       "      <td>1459</td>\n",
       "    </tr>\n",
       "    <tr>\n",
       "      <td>4</td>\n",
       "      <td>2018-05-01 16:00:00</td>\n",
       "      <td>R248</td>\n",
       "      <td>00-00-00</td>\n",
       "      <td>1 AV</td>\n",
       "      <td>13481170</td>\n",
       "      <td>15086314</td>\n",
       "      <td>R24800-00-00</td>\n",
       "      <td>882</td>\n",
       "      <td>854</td>\n",
       "    </tr>\n",
       "    <tr>\n",
       "      <td>...</td>\n",
       "      <td>...</td>\n",
       "      <td>...</td>\n",
       "      <td>...</td>\n",
       "      <td>...</td>\n",
       "      <td>...</td>\n",
       "      <td>...</td>\n",
       "      <td>...</td>\n",
       "      <td>...</td>\n",
       "      <td>...</td>\n",
       "    </tr>\n",
       "    <tr>\n",
       "      <td>704229</td>\n",
       "      <td>2018-05-25 05:00:00</td>\n",
       "      <td>R326</td>\n",
       "      <td>00-05-01</td>\n",
       "      <td>ZEREGA AV</td>\n",
       "      <td>39</td>\n",
       "      <td>103</td>\n",
       "      <td>R32600-05-01</td>\n",
       "      <td>0</td>\n",
       "      <td>0</td>\n",
       "    </tr>\n",
       "    <tr>\n",
       "      <td>704230</td>\n",
       "      <td>2018-05-25 09:00:00</td>\n",
       "      <td>R326</td>\n",
       "      <td>00-05-01</td>\n",
       "      <td>ZEREGA AV</td>\n",
       "      <td>39</td>\n",
       "      <td>103</td>\n",
       "      <td>R32600-05-01</td>\n",
       "      <td>0</td>\n",
       "      <td>0</td>\n",
       "    </tr>\n",
       "    <tr>\n",
       "      <td>704231</td>\n",
       "      <td>2018-05-25 13:00:00</td>\n",
       "      <td>R326</td>\n",
       "      <td>00-05-01</td>\n",
       "      <td>ZEREGA AV</td>\n",
       "      <td>39</td>\n",
       "      <td>103</td>\n",
       "      <td>R32600-05-01</td>\n",
       "      <td>0</td>\n",
       "      <td>0</td>\n",
       "    </tr>\n",
       "    <tr>\n",
       "      <td>704232</td>\n",
       "      <td>2018-05-25 17:00:00</td>\n",
       "      <td>R326</td>\n",
       "      <td>00-05-01</td>\n",
       "      <td>ZEREGA AV</td>\n",
       "      <td>39</td>\n",
       "      <td>103</td>\n",
       "      <td>R32600-05-01</td>\n",
       "      <td>0</td>\n",
       "      <td>0</td>\n",
       "    </tr>\n",
       "    <tr>\n",
       "      <td>704233</td>\n",
       "      <td>2018-05-25 21:00:00</td>\n",
       "      <td>R326</td>\n",
       "      <td>00-05-01</td>\n",
       "      <td>ZEREGA AV</td>\n",
       "      <td>39</td>\n",
       "      <td>103</td>\n",
       "      <td>R32600-05-01</td>\n",
       "      <td>0</td>\n",
       "      <td>0</td>\n",
       "    </tr>\n",
       "  </tbody>\n",
       "</table>\n",
       "<p>704234 rows × 9 columns</p>\n",
       "</div>"
      ],
      "text/plain": [
       "                 DATE_TIME  UNIT       SCP    STATION   ENTRIES     EXITS  \\\n",
       "0      2018-05-01 00:00:00  R248  00-00-00       1 AV  13478886  15083094   \n",
       "1      2018-05-01 04:00:00  R248  00-00-00       1 AV  13478886  15083094   \n",
       "2      2018-05-01 08:00:00  R248  00-00-00       1 AV  13479249  15084001   \n",
       "3      2018-05-01 12:00:00  R248  00-00-00       1 AV  13480288  15085460   \n",
       "4      2018-05-01 16:00:00  R248  00-00-00       1 AV  13481170  15086314   \n",
       "...                    ...   ...       ...        ...       ...       ...   \n",
       "704229 2018-05-25 05:00:00  R326  00-05-01  ZEREGA AV        39       103   \n",
       "704230 2018-05-25 09:00:00  R326  00-05-01  ZEREGA AV        39       103   \n",
       "704231 2018-05-25 13:00:00  R326  00-05-01  ZEREGA AV        39       103   \n",
       "704232 2018-05-25 17:00:00  R326  00-05-01  ZEREGA AV        39       103   \n",
       "704233 2018-05-25 21:00:00  R326  00-05-01  ZEREGA AV        39       103   \n",
       "\n",
       "            UNIT/SCP  ENTRIES_DIFF  EXITS_DIFF  \n",
       "0       R24800-00-00             0           0  \n",
       "1       R24800-00-00             0           0  \n",
       "2       R24800-00-00           363         907  \n",
       "3       R24800-00-00          1039        1459  \n",
       "4       R24800-00-00           882         854  \n",
       "...              ...           ...         ...  \n",
       "704229  R32600-05-01             0           0  \n",
       "704230  R32600-05-01             0           0  \n",
       "704231  R32600-05-01             0           0  \n",
       "704232  R32600-05-01             0           0  \n",
       "704233  R32600-05-01             0           0  \n",
       "\n",
       "[704234 rows x 9 columns]"
      ]
     },
     "execution_count": 131,
     "metadata": {},
     "output_type": "execute_result"
    }
   ],
   "source": [
    "year18"
   ]
  },
  {
   "cell_type": "code",
   "execution_count": null,
   "metadata": {},
   "outputs": [],
   "source": []
  }
 ],
 "metadata": {
  "kernelspec": {
   "display_name": "Python 3",
   "language": "python",
   "name": "python3"
  },
  "language_info": {
   "codemirror_mode": {
    "name": "ipython",
    "version": 3
   },
   "file_extension": ".py",
   "mimetype": "text/x-python",
   "name": "python",
   "nbconvert_exporter": "python",
   "pygments_lexer": "ipython3",
   "version": "3.6.9"
  }
 },
 "nbformat": 4,
 "nbformat_minor": 2
}
