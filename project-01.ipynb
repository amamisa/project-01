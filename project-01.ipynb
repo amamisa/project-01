{
 "cells": [
  {
   "cell_type": "code",
   "execution_count": 2,
   "metadata": {},
   "outputs": [],
   "source": [
    "import seaborn as sns\n",
    "import pickle \n"
   ]
  },
  {
   "cell_type": "code",
   "execution_count": 3,
   "metadata": {},
   "outputs": [],
   "source": [
    "import pandas as pd\n",
    "import numpy as np"
   ]
  },
  {
   "cell_type": "code",
   "execution_count": 4,
   "metadata": {},
   "outputs": [],
   "source": [
    "pd.set_option('display.max_rows', 200)"
   ]
  },
  {
   "cell_type": "code",
   "execution_count": 30,
   "metadata": {},
   "outputs": [],
   "source": [
    "year19_path_list=  ['turnstile_190504.txt', 'turnstile_190511.txt','turnstile_190518.txt','turnstile_190525.txt']\n",
    "year18_path_list=  ['turnstile_180505.txt', 'turnstile_180512.txt','turnstile_180519.txt','turnstile_180526.txt']\n",
    "year17_path_list=  ['turnstile_170506.txt', 'turnstile_170513.txt','turnstile_170520.txt','turnstile_170527.txt']"
   ]
  },
  {
   "cell_type": "code",
   "execution_count": 6,
   "metadata": {},
   "outputs": [],
   "source": [
    "def load_data(list_of_datasets):\n",
    "    year = pd.concat(map(lambda x: pd.read_csv(x,parse_dates=[['DATE','TIME']]), \n",
    "        list_of_datasets))\n",
    "    return year"
   ]
  },
  {
   "cell_type": "code",
   "execution_count": 7,
   "metadata": {},
   "outputs": [],
   "source": [
    "def preprocessing(dataframe):\n",
    "    dataframe.reset_index(drop=True,inplace=True)\n",
    "    dataframe.drop(['C/A','LINENAME','DIVISION', 'DESC'],axis=1,inplace = True)\n",
    "    dataframe['UNIT/SCP']= dataframe['UNIT'] + dataframe['SCP'] #creating an ideantifier column \n",
    "    dataframe =  dataframe[(dataframe['DATE_TIME'].dt.month > 4)]\n",
    "    dataframe = dataframe.sort_values(['STATION', 'UNIT/SCP','DATE_TIME'], ascending= True)\n",
    "    return  dataframe\n",
    "    "
   ]
  },
  {
   "cell_type": "code",
   "execution_count": 8,
   "metadata": {},
   "outputs": [],
   "source": [
    "def calculate_entries_column(dataframe):\n",
    "    dataframe.reset_index(drop=True,inplace=True)\n",
    "    dataframe['ENTRIES_DIFF']=0\n",
    "    for index, row in dataframe.iterrows():\n",
    "        if index == 0:\n",
    "            continue\n",
    "        if row['UNIT/SCP'] == dataframe['UNIT/SCP'][index-1] and row['STATION'] == dataframe['STATION'][index-1] and row['ENTRIES'] > int(dataframe['ENTRIES'][index-1]):\n",
    "            dataframe['ENTRIES_DIFF'][index] = row['ENTRIES'] - int(dataframe['ENTRIES'][index-1])\n",
    "            \n",
    "    return dataframe"
   ]
  },
  {
   "cell_type": "code",
   "execution_count": 9,
   "metadata": {},
   "outputs": [],
   "source": [
    "def calculate_exits_column(dataframe):\n",
    "    dataframe.columns=dataframe.columns.str.strip()\n",
    "    dataframe.reset_index(drop=True,inplace=True)\n",
    "    dataframe['EXITS_DIFF']=0\n",
    "    for index, row in dataframe.iterrows():\n",
    "        if index == 0:\n",
    "            continue\n",
    "        if row['UNIT/SCP'] == dataframe['UNIT/SCP'][index-1] and row['STATION'] == dataframe['STATION'][index-1] and row['EXITS'] > int(dataframe['EXITS'][index-1]):\n",
    "            dataframe['EXITS_DIFF'][index] = row['EXITS'] - int(dataframe['EXITS'][index-1])\n",
    "            \n",
    "    return dataframe"
   ]
  },
  {
   "cell_type": "code",
   "execution_count": 10,
   "metadata": {},
   "outputs": [],
   "source": [
    "def calculate_total_traffic(dataframe):\n",
    "    dataframe['TOTAL_TRAFFIC']= dataframe['ENTRIES_DIFF'] + dataframe['EXITS_DIFF']\n",
    "    return dataframe"
   ]
  },
  {
   "cell_type": "code",
   "execution_count": 11,
   "metadata": {},
   "outputs": [],
   "source": [
    "def generate_stat(dataframe):\n",
    "    year19_traffic_per_station = dataframe.groupby('STATION').TOTAL_TRAFFIC.sum()\n",
    "    year19_traffic_per_station = pd.DataFrame(year19_traffic_per_station)\n",
    "    sorted_traffic = year19_traffic_per_station.sort_values(by=['TOTAL_TRAFFIC'], ascending= False)\n",
    "    return sorted_traffic"
   ]
  },
  {
   "cell_type": "code",
   "execution_count": 12,
   "metadata": {},
   "outputs": [],
   "source": [
    "def pickle_df(dataframe,filename):\n",
    "    with open(filename+\".pickle\",\"wb\")as to_write:\n",
    "        pickle.dump(dataframe,to_write)"
   ]
  },
  {
   "cell_type": "code",
   "execution_count": 13,
   "metadata": {},
   "outputs": [],
   "source": [
    "def read_pickle(file_name):\n",
    "    with open(file_name, 'rb') as f:\n",
    "        dataframe = pickle.load(f)\n",
    "        return dataframe"
   ]
  },
  {
   "cell_type": "code",
   "execution_count": 14,
   "metadata": {},
   "outputs": [],
   "source": [
    "def init_dataframe(years_list):\n",
    "    year=load_data(years_list)\n",
    "    year = preprocessing(year)\n",
    "    year = calculate_entries_column(year)\n",
    "    year = calculate_exits_column(year)\n",
    "    return year "
   ]
  },
  {
   "cell_type": "code",
   "execution_count": 15,
   "metadata": {},
   "outputs": [],
   "source": [
    "def graph_stats(stats):\n",
    "    stats = stats.head(5)\n",
    "    stats = stats.reset_index()\n",
    "    stats.columns\n",
    "    sns.barplot(x=stats['TOTAL_TRAFFIC'], y=stats['STATION'])"
   ]
  },
  {
   "cell_type": "code",
   "execution_count": 18,
   "metadata": {},
   "outputs": [
    {
     "name": "stderr",
     "output_type": "stream",
     "text": [
      "/Users/hi/anaconda3/lib/python3.6/site-packages/ipykernel_launcher.py:8: SettingWithCopyWarning: \n",
      "A value is trying to be set on a copy of a slice from a DataFrame\n",
      "\n",
      "See the caveats in the documentation: http://pandas.pydata.org/pandas-docs/stable/user_guide/indexing.html#returning-a-view-versus-a-copy\n",
      "  \n",
      "/Users/hi/anaconda3/lib/python3.6/site-packages/ipykernel_launcher.py:9: SettingWithCopyWarning: \n",
      "A value is trying to be set on a copy of a slice from a DataFrame\n",
      "\n",
      "See the caveats in the documentation: http://pandas.pydata.org/pandas-docs/stable/user_guide/indexing.html#returning-a-view-versus-a-copy\n",
      "  if __name__ == '__main__':\n"
     ]
    }
   ],
   "source": [
    "# year19 = init_dataframe(year19_path_list)"
   ]
  },
  {
   "cell_type": "code",
   "execution_count": 19,
   "metadata": {},
   "outputs": [],
   "source": [
    "#HANDLING OUTLIERS "
   ]
  },
  {
   "cell_type": "code",
   "execution_count": 20,
   "metadata": {},
   "outputs": [
    {
     "name": "stderr",
     "output_type": "stream",
     "text": [
      "/Users/hi/anaconda3/lib/python3.6/site-packages/ipykernel_launcher.py:1: SettingWithCopyWarning: \n",
      "A value is trying to be set on a copy of a slice from a DataFrame\n",
      "\n",
      "See the caveats in the documentation: http://pandas.pydata.org/pandas-docs/stable/user_guide/indexing.html#returning-a-view-versus-a-copy\n",
      "  \"\"\"Entry point for launching an IPython kernel.\n"
     ]
    }
   ],
   "source": [
    "year19['ENTRIES_DIFF'][81250] = 142"
   ]
  },
  {
   "cell_type": "code",
   "execution_count": 21,
   "metadata": {},
   "outputs": [
    {
     "name": "stderr",
     "output_type": "stream",
     "text": [
      "/Users/hi/anaconda3/lib/python3.6/site-packages/ipykernel_launcher.py:1: SettingWithCopyWarning: \n",
      "A value is trying to be set on a copy of a slice from a DataFrame\n",
      "\n",
      "See the caveats in the documentation: http://pandas.pydata.org/pandas-docs/stable/user_guide/indexing.html#returning-a-view-versus-a-copy\n",
      "  \"\"\"Entry point for launching an IPython kernel.\n"
     ]
    }
   ],
   "source": [
    "year19['ENTRIES_DIFF'][17616] = 142"
   ]
  },
  {
   "cell_type": "code",
   "execution_count": 22,
   "metadata": {},
   "outputs": [
    {
     "name": "stderr",
     "output_type": "stream",
     "text": [
      "/Users/hi/anaconda3/lib/python3.6/site-packages/ipykernel_launcher.py:1: SettingWithCopyWarning: \n",
      "A value is trying to be set on a copy of a slice from a DataFrame\n",
      "\n",
      "See the caveats in the documentation: http://pandas.pydata.org/pandas-docs/stable/user_guide/indexing.html#returning-a-view-versus-a-copy\n",
      "  \"\"\"Entry point for launching an IPython kernel.\n"
     ]
    }
   ],
   "source": [
    "year19['EXITS_DIFF'][81250] = 0"
   ]
  },
  {
   "cell_type": "code",
   "execution_count": 23,
   "metadata": {},
   "outputs": [
    {
     "name": "stderr",
     "output_type": "stream",
     "text": [
      "/Users/hi/anaconda3/lib/python3.6/site-packages/ipykernel_launcher.py:1: SettingWithCopyWarning: \n",
      "A value is trying to be set on a copy of a slice from a DataFrame\n",
      "\n",
      "See the caveats in the documentation: http://pandas.pydata.org/pandas-docs/stable/user_guide/indexing.html#returning-a-view-versus-a-copy\n",
      "  \"\"\"Entry point for launching an IPython kernel.\n"
     ]
    }
   ],
   "source": [
    "year19['EXITS_DIFF'][17616] = 0"
   ]
  },
  {
   "cell_type": "code",
   "execution_count": 24,
   "metadata": {},
   "outputs": [],
   "source": [
    "# year19 = calculate_total_traffic(year19)\n"
   ]
  },
  {
   "cell_type": "code",
   "execution_count": 25,
   "metadata": {},
   "outputs": [],
   "source": [
    "# pickle_df(year19,'MTA_19')"
   ]
  },
  {
   "cell_type": "code",
   "execution_count": 26,
   "metadata": {},
   "outputs": [],
   "source": [
    "year19_pickle = read_pickle('MTA_19.pickle')"
   ]
  },
  {
   "cell_type": "code",
   "execution_count": 27,
   "metadata": {},
   "outputs": [
    {
     "data": {
      "text/html": [
       "<div>\n",
       "<style scoped>\n",
       "    .dataframe tbody tr th:only-of-type {\n",
       "        vertical-align: middle;\n",
       "    }\n",
       "\n",
       "    .dataframe tbody tr th {\n",
       "        vertical-align: top;\n",
       "    }\n",
       "\n",
       "    .dataframe thead th {\n",
       "        text-align: right;\n",
       "    }\n",
       "</style>\n",
       "<table border=\"1\" class=\"dataframe\">\n",
       "  <thead>\n",
       "    <tr style=\"text-align: right;\">\n",
       "      <th></th>\n",
       "      <th>DATE_TIME</th>\n",
       "      <th>UNIT</th>\n",
       "      <th>SCP</th>\n",
       "      <th>STATION</th>\n",
       "      <th>ENTRIES</th>\n",
       "      <th>EXITS</th>\n",
       "      <th>UNIT/SCP</th>\n",
       "      <th>ENTRIES_DIFF</th>\n",
       "      <th>EXITS_DIFF</th>\n",
       "      <th>TOTAL_TRAFFIC</th>\n",
       "    </tr>\n",
       "  </thead>\n",
       "  <tbody>\n",
       "    <tr>\n",
       "      <td>0</td>\n",
       "      <td>2019-05-01 00:00:00</td>\n",
       "      <td>R248</td>\n",
       "      <td>00-00-00</td>\n",
       "      <td>1 AV</td>\n",
       "      <td>14654538</td>\n",
       "      <td>16381430</td>\n",
       "      <td>R24800-00-00</td>\n",
       "      <td>0</td>\n",
       "      <td>0</td>\n",
       "      <td>0</td>\n",
       "    </tr>\n",
       "    <tr>\n",
       "      <td>1</td>\n",
       "      <td>2019-05-01 04:00:00</td>\n",
       "      <td>R248</td>\n",
       "      <td>00-00-00</td>\n",
       "      <td>1 AV</td>\n",
       "      <td>14654538</td>\n",
       "      <td>16381436</td>\n",
       "      <td>R24800-00-00</td>\n",
       "      <td>0</td>\n",
       "      <td>6</td>\n",
       "      <td>6</td>\n",
       "    </tr>\n",
       "    <tr>\n",
       "      <td>2</td>\n",
       "      <td>2019-05-01 08:00:00</td>\n",
       "      <td>R248</td>\n",
       "      <td>00-00-00</td>\n",
       "      <td>1 AV</td>\n",
       "      <td>14654889</td>\n",
       "      <td>16382236</td>\n",
       "      <td>R24800-00-00</td>\n",
       "      <td>351</td>\n",
       "      <td>800</td>\n",
       "      <td>1151</td>\n",
       "    </tr>\n",
       "    <tr>\n",
       "      <td>3</td>\n",
       "      <td>2019-05-01 12:00:00</td>\n",
       "      <td>R248</td>\n",
       "      <td>00-00-00</td>\n",
       "      <td>1 AV</td>\n",
       "      <td>14656102</td>\n",
       "      <td>16383435</td>\n",
       "      <td>R24800-00-00</td>\n",
       "      <td>1213</td>\n",
       "      <td>1199</td>\n",
       "      <td>2412</td>\n",
       "    </tr>\n",
       "    <tr>\n",
       "      <td>4</td>\n",
       "      <td>2019-05-01 16:00:00</td>\n",
       "      <td>R248</td>\n",
       "      <td>00-00-00</td>\n",
       "      <td>1 AV</td>\n",
       "      <td>14656924</td>\n",
       "      <td>16384214</td>\n",
       "      <td>R24800-00-00</td>\n",
       "      <td>822</td>\n",
       "      <td>779</td>\n",
       "      <td>1601</td>\n",
       "    </tr>\n",
       "    <tr>\n",
       "      <td>...</td>\n",
       "      <td>...</td>\n",
       "      <td>...</td>\n",
       "      <td>...</td>\n",
       "      <td>...</td>\n",
       "      <td>...</td>\n",
       "      <td>...</td>\n",
       "      <td>...</td>\n",
       "      <td>...</td>\n",
       "      <td>...</td>\n",
       "      <td>...</td>\n",
       "    </tr>\n",
       "    <tr>\n",
       "      <td>705134</td>\n",
       "      <td>2019-05-24 05:00:00</td>\n",
       "      <td>R326</td>\n",
       "      <td>00-05-01</td>\n",
       "      <td>ZEREGA AV</td>\n",
       "      <td>39</td>\n",
       "      <td>148</td>\n",
       "      <td>R32600-05-01</td>\n",
       "      <td>0</td>\n",
       "      <td>0</td>\n",
       "      <td>0</td>\n",
       "    </tr>\n",
       "    <tr>\n",
       "      <td>705135</td>\n",
       "      <td>2019-05-24 09:00:00</td>\n",
       "      <td>R326</td>\n",
       "      <td>00-05-01</td>\n",
       "      <td>ZEREGA AV</td>\n",
       "      <td>39</td>\n",
       "      <td>148</td>\n",
       "      <td>R32600-05-01</td>\n",
       "      <td>0</td>\n",
       "      <td>0</td>\n",
       "      <td>0</td>\n",
       "    </tr>\n",
       "    <tr>\n",
       "      <td>705136</td>\n",
       "      <td>2019-05-24 13:00:00</td>\n",
       "      <td>R326</td>\n",
       "      <td>00-05-01</td>\n",
       "      <td>ZEREGA AV</td>\n",
       "      <td>39</td>\n",
       "      <td>148</td>\n",
       "      <td>R32600-05-01</td>\n",
       "      <td>0</td>\n",
       "      <td>0</td>\n",
       "      <td>0</td>\n",
       "    </tr>\n",
       "    <tr>\n",
       "      <td>705137</td>\n",
       "      <td>2019-05-24 17:00:00</td>\n",
       "      <td>R326</td>\n",
       "      <td>00-05-01</td>\n",
       "      <td>ZEREGA AV</td>\n",
       "      <td>39</td>\n",
       "      <td>148</td>\n",
       "      <td>R32600-05-01</td>\n",
       "      <td>0</td>\n",
       "      <td>0</td>\n",
       "      <td>0</td>\n",
       "    </tr>\n",
       "    <tr>\n",
       "      <td>705138</td>\n",
       "      <td>2019-05-24 21:00:00</td>\n",
       "      <td>R326</td>\n",
       "      <td>00-05-01</td>\n",
       "      <td>ZEREGA AV</td>\n",
       "      <td>39</td>\n",
       "      <td>148</td>\n",
       "      <td>R32600-05-01</td>\n",
       "      <td>0</td>\n",
       "      <td>0</td>\n",
       "      <td>0</td>\n",
       "    </tr>\n",
       "  </tbody>\n",
       "</table>\n",
       "<p>705139 rows × 10 columns</p>\n",
       "</div>"
      ],
      "text/plain": [
       "                 DATE_TIME  UNIT       SCP    STATION   ENTRIES     EXITS  \\\n",
       "0      2019-05-01 00:00:00  R248  00-00-00       1 AV  14654538  16381430   \n",
       "1      2019-05-01 04:00:00  R248  00-00-00       1 AV  14654538  16381436   \n",
       "2      2019-05-01 08:00:00  R248  00-00-00       1 AV  14654889  16382236   \n",
       "3      2019-05-01 12:00:00  R248  00-00-00       1 AV  14656102  16383435   \n",
       "4      2019-05-01 16:00:00  R248  00-00-00       1 AV  14656924  16384214   \n",
       "...                    ...   ...       ...        ...       ...       ...   \n",
       "705134 2019-05-24 05:00:00  R326  00-05-01  ZEREGA AV        39       148   \n",
       "705135 2019-05-24 09:00:00  R326  00-05-01  ZEREGA AV        39       148   \n",
       "705136 2019-05-24 13:00:00  R326  00-05-01  ZEREGA AV        39       148   \n",
       "705137 2019-05-24 17:00:00  R326  00-05-01  ZEREGA AV        39       148   \n",
       "705138 2019-05-24 21:00:00  R326  00-05-01  ZEREGA AV        39       148   \n",
       "\n",
       "            UNIT/SCP  ENTRIES_DIFF  EXITS_DIFF  TOTAL_TRAFFIC  \n",
       "0       R24800-00-00             0           0              0  \n",
       "1       R24800-00-00             0           6              6  \n",
       "2       R24800-00-00           351         800           1151  \n",
       "3       R24800-00-00          1213        1199           2412  \n",
       "4       R24800-00-00           822         779           1601  \n",
       "...              ...           ...         ...            ...  \n",
       "705134  R32600-05-01             0           0              0  \n",
       "705135  R32600-05-01             0           0              0  \n",
       "705136  R32600-05-01             0           0              0  \n",
       "705137  R32600-05-01             0           0              0  \n",
       "705138  R32600-05-01             0           0              0  \n",
       "\n",
       "[705139 rows x 10 columns]"
      ]
     },
     "execution_count": 27,
     "metadata": {},
     "output_type": "execute_result"
    }
   ],
   "source": [
    "year19_pickle"
   ]
  },
  {
   "cell_type": "code",
   "execution_count": 28,
   "metadata": {},
   "outputs": [],
   "source": [
    "stats = generate_stat(year19_pickle)"
   ]
  },
  {
   "cell_type": "code",
   "execution_count": 29,
   "metadata": {},
   "outputs": [
    {
     "data": {
      "image/png": "[encoded data removed]",
      "text/plain": [
       "<Figure size 432x288 with 1 Axes>"
      ]
     },
     "metadata": {
      "needs_background": "light"
     },
     "output_type": "display_data"
    }
   ],
   "source": [
    "graph_stats(stats)"
   ]
  },
  {
   "cell_type": "code",
   "execution_count": null,
   "metadata": {
    "scrolled": true
   },
   "outputs": [],
   "source": []
  },
  {
   "cell_type": "code",
   "execution_count": null,
   "metadata": {},
   "outputs": [],
   "source": []
  },
  {
   "cell_type": "code",
   "execution_count": 130,
   "metadata": {},
   "outputs": [
    {
     "name": "stderr",
     "output_type": "stream",
     "text": [
      "/Users/hi/anaconda3/lib/python3.6/site-packages/ipykernel_launcher.py:8: SettingWithCopyWarning: \n",
      "A value is trying to be set on a copy of a slice from a DataFrame\n",
      "\n",
      "See the caveats in the documentation: http://pandas.pydata.org/pandas-docs/stable/user_guide/indexing.html#returning-a-view-versus-a-copy\n",
      "  \n",
      "/Users/hi/anaconda3/lib/python3.6/site-packages/ipykernel_launcher.py:9: SettingWithCopyWarning: \n",
      "A value is trying to be set on a copy of a slice from a DataFrame\n",
      "\n",
      "See the caveats in the documentation: http://pandas.pydata.org/pandas-docs/stable/user_guide/indexing.html#returning-a-view-versus-a-copy\n",
      "  if __name__ == '__main__':\n"
     ]
    }
   ],
   "source": [
    "# year18 = init_dataframe(year18_path_list)"
   ]
  },
  {
   "cell_type": "code",
   "execution_count": 150,
   "metadata": {},
   "outputs": [],
   "source": [
    "pickle_df(year18,'MTA_18' )"
   ]
  },
  {
   "cell_type": "code",
   "execution_count": 152,
   "metadata": {},
   "outputs": [],
   "source": [
    "year18_pickle = read_pickle('MTA_18.pickle')"
   ]
  },
  {
   "cell_type": "code",
   "execution_count": null,
   "metadata": {},
   "outputs": [],
   "source": []
  },
  {
   "cell_type": "code",
   "execution_count": 31,
   "metadata": {},
   "outputs": [
    {
     "name": "stderr",
     "output_type": "stream",
     "text": [
      "/Users/hi/anaconda3/lib/python3.6/site-packages/ipykernel_launcher.py:8: SettingWithCopyWarning: \n",
      "A value is trying to be set on a copy of a slice from a DataFrame\n",
      "\n",
      "See the caveats in the documentation: http://pandas.pydata.org/pandas-docs/stable/user_guide/indexing.html#returning-a-view-versus-a-copy\n",
      "  \n",
      "/Users/hi/anaconda3/lib/python3.6/site-packages/ipykernel_launcher.py:9: SettingWithCopyWarning: \n",
      "A value is trying to be set on a copy of a slice from a DataFrame\n",
      "\n",
      "See the caveats in the documentation: http://pandas.pydata.org/pandas-docs/stable/user_guide/indexing.html#returning-a-view-versus-a-copy\n",
      "  if __name__ == '__main__':\n"
     ]
    }
   ],
   "source": [
    "year17 = init_dataframe(year17_path_list)"
   ]
  },
  {
   "cell_type": "code",
   "execution_count": 32,
   "metadata": {},
   "outputs": [],
   "source": [
    "pickle_df(year17,'MTA_17')"
   ]
  },
  {
   "cell_type": "code",
   "execution_count": 35,
   "metadata": {},
   "outputs": [],
   "source": [
    "year17_pickle = read_pickle('MTA_17.pickle')"
   ]
  },
  {
   "cell_type": "code",
   "execution_count": 36,
   "metadata": {},
   "outputs": [
    {
     "data": {
      "text/html": [
       "<div>\n",
       "<style scoped>\n",
       "    .dataframe tbody tr th:only-of-type {\n",
       "        vertical-align: middle;\n",
       "    }\n",
       "\n",
       "    .dataframe tbody tr th {\n",
       "        vertical-align: top;\n",
       "    }\n",
       "\n",
       "    .dataframe thead th {\n",
       "        text-align: right;\n",
       "    }\n",
       "</style>\n",
       "<table border=\"1\" class=\"dataframe\">\n",
       "  <thead>\n",
       "    <tr style=\"text-align: right;\">\n",
       "      <th></th>\n",
       "      <th>DATE_TIME</th>\n",
       "      <th>UNIT</th>\n",
       "      <th>SCP</th>\n",
       "      <th>STATION</th>\n",
       "      <th>ENTRIES</th>\n",
       "      <th>EXITS</th>\n",
       "      <th>UNIT/SCP</th>\n",
       "      <th>ENTRIES_DIFF</th>\n",
       "      <th>EXITS_DIFF</th>\n",
       "    </tr>\n",
       "  </thead>\n",
       "  <tbody>\n",
       "    <tr>\n",
       "      <td>0</td>\n",
       "      <td>2017-05-01 00:00:00</td>\n",
       "      <td>R248</td>\n",
       "      <td>00-00-00</td>\n",
       "      <td>1 AV</td>\n",
       "      <td>12282354</td>\n",
       "      <td>13541843</td>\n",
       "      <td>R24800-00-00</td>\n",
       "      <td>0</td>\n",
       "      <td>0</td>\n",
       "    </tr>\n",
       "    <tr>\n",
       "      <td>1</td>\n",
       "      <td>2017-05-01 04:00:00</td>\n",
       "      <td>R248</td>\n",
       "      <td>00-00-00</td>\n",
       "      <td>1 AV</td>\n",
       "      <td>12282381</td>\n",
       "      <td>13541919</td>\n",
       "      <td>R24800-00-00</td>\n",
       "      <td>27</td>\n",
       "      <td>76</td>\n",
       "    </tr>\n",
       "    <tr>\n",
       "      <td>2</td>\n",
       "      <td>2017-05-01 08:00:00</td>\n",
       "      <td>R248</td>\n",
       "      <td>00-00-00</td>\n",
       "      <td>1 AV</td>\n",
       "      <td>12282732</td>\n",
       "      <td>13542797</td>\n",
       "      <td>R24800-00-00</td>\n",
       "      <td>351</td>\n",
       "      <td>878</td>\n",
       "    </tr>\n",
       "    <tr>\n",
       "      <td>3</td>\n",
       "      <td>2017-05-01 12:00:00</td>\n",
       "      <td>R248</td>\n",
       "      <td>00-00-00</td>\n",
       "      <td>1 AV</td>\n",
       "      <td>12284169</td>\n",
       "      <td>13543907</td>\n",
       "      <td>R24800-00-00</td>\n",
       "      <td>1437</td>\n",
       "      <td>1110</td>\n",
       "    </tr>\n",
       "    <tr>\n",
       "      <td>4</td>\n",
       "      <td>2017-05-01 16:00:00</td>\n",
       "      <td>R248</td>\n",
       "      <td>00-00-00</td>\n",
       "      <td>1 AV</td>\n",
       "      <td>12285115</td>\n",
       "      <td>13544659</td>\n",
       "      <td>R24800-00-00</td>\n",
       "      <td>946</td>\n",
       "      <td>752</td>\n",
       "    </tr>\n",
       "    <tr>\n",
       "      <td>...</td>\n",
       "      <td>...</td>\n",
       "      <td>...</td>\n",
       "      <td>...</td>\n",
       "      <td>...</td>\n",
       "      <td>...</td>\n",
       "      <td>...</td>\n",
       "      <td>...</td>\n",
       "      <td>...</td>\n",
       "      <td>...</td>\n",
       "    </tr>\n",
       "    <tr>\n",
       "      <td>728656</td>\n",
       "      <td>2017-05-26 05:00:00</td>\n",
       "      <td>R326</td>\n",
       "      <td>00-05-01</td>\n",
       "      <td>ZEREGA AV</td>\n",
       "      <td>39</td>\n",
       "      <td>65</td>\n",
       "      <td>R32600-05-01</td>\n",
       "      <td>0</td>\n",
       "      <td>0</td>\n",
       "    </tr>\n",
       "    <tr>\n",
       "      <td>728657</td>\n",
       "      <td>2017-05-26 09:00:00</td>\n",
       "      <td>R326</td>\n",
       "      <td>00-05-01</td>\n",
       "      <td>ZEREGA AV</td>\n",
       "      <td>39</td>\n",
       "      <td>65</td>\n",
       "      <td>R32600-05-01</td>\n",
       "      <td>0</td>\n",
       "      <td>0</td>\n",
       "    </tr>\n",
       "    <tr>\n",
       "      <td>728658</td>\n",
       "      <td>2017-05-26 13:00:00</td>\n",
       "      <td>R326</td>\n",
       "      <td>00-05-01</td>\n",
       "      <td>ZEREGA AV</td>\n",
       "      <td>39</td>\n",
       "      <td>65</td>\n",
       "      <td>R32600-05-01</td>\n",
       "      <td>0</td>\n",
       "      <td>0</td>\n",
       "    </tr>\n",
       "    <tr>\n",
       "      <td>728659</td>\n",
       "      <td>2017-05-26 17:00:00</td>\n",
       "      <td>R326</td>\n",
       "      <td>00-05-01</td>\n",
       "      <td>ZEREGA AV</td>\n",
       "      <td>39</td>\n",
       "      <td>65</td>\n",
       "      <td>R32600-05-01</td>\n",
       "      <td>0</td>\n",
       "      <td>0</td>\n",
       "    </tr>\n",
       "    <tr>\n",
       "      <td>728660</td>\n",
       "      <td>2017-05-26 21:00:00</td>\n",
       "      <td>R326</td>\n",
       "      <td>00-05-01</td>\n",
       "      <td>ZEREGA AV</td>\n",
       "      <td>39</td>\n",
       "      <td>65</td>\n",
       "      <td>R32600-05-01</td>\n",
       "      <td>0</td>\n",
       "      <td>0</td>\n",
       "    </tr>\n",
       "  </tbody>\n",
       "</table>\n",
       "<p>728661 rows × 9 columns</p>\n",
       "</div>"
      ],
      "text/plain": [
       "                 DATE_TIME  UNIT       SCP    STATION   ENTRIES     EXITS  \\\n",
       "0      2017-05-01 00:00:00  R248  00-00-00       1 AV  12282354  13541843   \n",
       "1      2017-05-01 04:00:00  R248  00-00-00       1 AV  12282381  13541919   \n",
       "2      2017-05-01 08:00:00  R248  00-00-00       1 AV  12282732  13542797   \n",
       "3      2017-05-01 12:00:00  R248  00-00-00       1 AV  12284169  13543907   \n",
       "4      2017-05-01 16:00:00  R248  00-00-00       1 AV  12285115  13544659   \n",
       "...                    ...   ...       ...        ...       ...       ...   \n",
       "728656 2017-05-26 05:00:00  R326  00-05-01  ZEREGA AV        39        65   \n",
       "728657 2017-05-26 09:00:00  R326  00-05-01  ZEREGA AV        39        65   \n",
       "728658 2017-05-26 13:00:00  R326  00-05-01  ZEREGA AV        39        65   \n",
       "728659 2017-05-26 17:00:00  R326  00-05-01  ZEREGA AV        39        65   \n",
       "728660 2017-05-26 21:00:00  R326  00-05-01  ZEREGA AV        39        65   \n",
       "\n",
       "            UNIT/SCP  ENTRIES_DIFF  EXITS_DIFF  \n",
       "0       R24800-00-00             0           0  \n",
       "1       R24800-00-00            27          76  \n",
       "2       R24800-00-00           351         878  \n",
       "3       R24800-00-00          1437        1110  \n",
       "4       R24800-00-00           946         752  \n",
       "...              ...           ...         ...  \n",
       "728656  R32600-05-01             0           0  \n",
       "728657  R32600-05-01             0           0  \n",
       "728658  R32600-05-01             0           0  \n",
       "728659  R32600-05-01             0           0  \n",
       "728660  R32600-05-01             0           0  \n",
       "\n",
       "[728661 rows x 9 columns]"
      ]
     },
     "execution_count": 36,
     "metadata": {},
     "output_type": "execute_result"
    }
   ],
   "source": [
    "year17_pickle"
   ]
  },
  {
   "cell_type": "code",
   "execution_count": null,
   "metadata": {},
   "outputs": [],
   "source": []
  }
 ],
 "metadata": {
  "kernelspec": {
   "display_name": "Python 3",
   "language": "python",
   "name": "python3"
  },
  "language_info": {
   "codemirror_mode": {
    "name": "ipython",
    "version": 3
   },
   "file_extension": ".py",
   "mimetype": "text/x-python",
   "name": "python",
   "nbconvert_exporter": "python",
   "pygments_lexer": "ipython3",
   "version": "3.6.9"
  }
 },
 "nbformat": 4,
 "nbformat_minor": 2
}
