{
 "cells": [
  {
   "cell_type": "code",
   "execution_count": null,
   "metadata": {},
   "outputs": [],
   "source": [
    "import seaborn as sns\n",
    "import pickle \n",
    "import matplotlib.pyplot as plt\n",
    "%matplotlib inline"
   ]
  },
  {
   "cell_type": "code",
   "execution_count": null,
   "metadata": {},
   "outputs": [],
   "source": [
    "import pandas as pd\n",
    "import numpy as np"
   ]
  },
  {
   "cell_type": "code",
   "execution_count": null,
   "metadata": {},
   "outputs": [],
   "source": [
    "pd.set_option('display.max_rows', 200)"
   ]
  },
  {
   "cell_type": "code",
   "execution_count": null,
   "metadata": {},
   "outputs": [],
   "source": [
    "year19_path_list=  ['turnstile_190504.txt', 'turnstile_190511.txt','turnstile_190518.txt','turnstile_190525.txt']"
   ]
  },
  {
   "cell_type": "code",
   "execution_count": null,
   "metadata": {},
   "outputs": [],
   "source": [
    "def load_data(list_of_datasets):\n",
    "    year = pd.concat(map(lambda x: pd.read_csv(x,parse_dates=[['DATE','TIME']]), \n",
    "        list_of_datasets))\n",
    "    return year"
   ]
  },
  {
   "cell_type": "code",
   "execution_count": null,
   "metadata": {},
   "outputs": [],
   "source": [
    "def preprocessing(dataframe):\n",
    "    dataframe.reset_index(drop=True,inplace=True)\n",
    "    dataframe.drop(['C/A','LINENAME','DIVISION', 'DESC'],axis=1,inplace = True)\n",
    "    dataframe['UNIT/SCP']= dataframe['UNIT'] + dataframe['SCP'] #creating an ideantifier column \n",
    "    dataframe =  dataframe[(dataframe['DATE_TIME'].dt.month > 4)]\n",
    "    dataframe = dataframe.sort_values(['STATION', 'UNIT/SCP','DATE_TIME'], ascending= True)\n",
    "    return  dataframe\n",
    "    "
   ]
  },
  {
   "cell_type": "code",
   "execution_count": null,
   "metadata": {},
   "outputs": [],
   "source": [
    "def calculate_entries_column(dataframe):\n",
    "    dataframe.reset_index(drop=True,inplace=True)\n",
    "    dataframe['ENTRIES_DIFF']=0\n",
    "    for index, row in dataframe.iterrows():\n",
    "        if index == 0:\n",
    "            continue\n",
    "        if row['UNIT/SCP'] == dataframe['UNIT/SCP'][index-1] and row['STATION'] == dataframe['STATION'][index-1] and row['ENTRIES'] > int(dataframe['ENTRIES'][index-1]):\n",
    "            dataframe['ENTRIES_DIFF'][index] = row['ENTRIES'] - int(dataframe['ENTRIES'][index-1])\n",
    "            \n",
    "    return dataframe"
   ]
  },
  {
   "cell_type": "code",
   "execution_count": null,
   "metadata": {},
   "outputs": [],
   "source": [
    "def calculate_exits_column(dataframe):\n",
    "    dataframe.columns=dataframe.columns.str.strip()\n",
    "    dataframe.reset_index(drop=True,inplace=True)\n",
    "    dataframe['EXITS_DIFF']=0\n",
    "    for index, row in dataframe.iterrows():\n",
    "        if index == 0:\n",
    "            continue\n",
    "        if row['UNIT/SCP'] == dataframe['UNIT/SCP'][index-1] and row['STATION'] == dataframe['STATION'][index-1] and row['EXITS'] > int(dataframe['EXITS'][index-1]):\n",
    "            dataframe['EXITS_DIFF'][index] = row['EXITS'] - int(dataframe['EXITS'][index-1])\n",
    "            \n",
    "    return dataframe"
   ]
  },
  {
   "cell_type": "code",
   "execution_count": null,
   "metadata": {},
   "outputs": [],
   "source": [
    "def calculate_total_traffic(dataframe):\n",
    "    dataframe['TOTAL_TRAFFIC']= dataframe['ENTRIES_DIFF'] + dataframe['EXITS_DIFF']\n",
    "    return dataframe"
   ]
  },
  {
   "cell_type": "code",
   "execution_count": null,
   "metadata": {},
   "outputs": [],
   "source": [
    "def generate_stat(dataframe):\n",
    "    year19_traffic_per_station = dataframe.groupby('STATION').TOTAL_TRAFFIC.sum()\n",
    "    year19_traffic_per_station = pd.DataFrame(year19_traffic_per_station)\n",
    "    sorted_traffic = year19_traffic_per_station.sort_values(by=['TOTAL_TRAFFIC'], ascending= False)\n",
    "    return sorted_traffic"
   ]
  },
  {
   "cell_type": "code",
   "execution_count": null,
   "metadata": {},
   "outputs": [],
   "source": [
    "def pickle_df(dataframe,filename):\n",
    "    with open(filename+\".pickle\",\"wb\")as to_write:\n",
    "        pickle.dump(dataframe,to_write)"
   ]
  },
  {
   "cell_type": "code",
   "execution_count": null,
   "metadata": {},
   "outputs": [],
   "source": [
    "def read_pickle(file_name):\n",
    "    with open(file_name, 'rb') as f:\n",
    "        dataframe = pickle.load(f)\n",
    "        return dataframe"
   ]
  },
  {
   "cell_type": "code",
   "execution_count": null,
   "metadata": {},
   "outputs": [],
   "source": [
    "def init_dataframe(years_list):\n",
    "    year=load_data(years_list)\n",
    "    year = preprocessing(year)\n",
    "    year = calculate_entries_column(year)\n",
    "    year = calculate_exits_column(year)\n",
    "    return year "
   ]
  },
  {
   "cell_type": "code",
   "execution_count": null,
   "metadata": {},
   "outputs": [],
   "source": [
    "def graph_stats(stats):\n",
    "    stats = stats.head(20)\n",
    "    stats = stats.reset_index()\n",
    "    top20 = sns.barplot(x=stats['TOTAL_TRAFFIC'], y=stats['STATION'])\n",
    "    top20.set_title('Top 20 Crowded Stations')\n",
    "    plt.show()"
   ]
  },
  {
   "cell_type": "code",
   "execution_count": null,
   "metadata": {},
   "outputs": [],
   "source": [
    "def graph_days_per_month(month):\n",
    "    month['Dates'] = pd.to_datetime(month['DATE_TIME']).dt.date\n",
    "    top20 = sns.barplot(x=month['TOTAL_TRAFFIC'], y=list(map((lambda x: x.strftime(\"%m-%d-%Y\")), month['Dates'])))\n",
    "    top20.set_title('Days per month -May- traffic')\\\n",
    "    \n",
    "    plt.figure(figsize=(6,4),dpi=(300))\n",
    "    plt.show()"
   ]
  },
  {
   "cell_type": "code",
   "execution_count": null,
   "metadata": {},
   "outputs": [],
   "source": [
    "year19_pickle = read_pickle('MTA_19.pickle')"
   ]
  },
  {
   "cell_type": "code",
   "execution_count": null,
   "metadata": {},
   "outputs": [],
   "source": [
    "median=year19_pickle.groupby('STATION').median()\n",
    "Mediandf = pd.DataFrame(median) "
   ]
  },
  {
   "cell_type": "code",
   "execution_count": null,
   "metadata": {},
   "outputs": [],
   "source": [
    "Mediandf.drop(['ENTRIES','EXITS','ENTRIES_DIFF', 'EXITS_DIFF'],axis=1,inplace = True)\n"
   ]
  },
  {
   "cell_type": "code",
   "execution_count": null,
   "metadata": {
    "scrolled": true
   },
   "outputs": [],
   "source": [
    "Mediandf.reset_index()['TOTAL_TRAFFIC']"
   ]
  },
  {
   "cell_type": "code",
   "execution_count": null,
   "metadata": {},
   "outputs": [],
   "source": [
    "year19= pd.merge(year19_pickle,Mediandf.reset_index()[['TOTAL_TRAFFIC','STATION']],on='STATION')\n",
    "year19.columns=year19.columns.str.replace(\"TOTAL_TRAFFIC_y\",'TOTAL_TRAFFIC_MED')\n",
    "year19.columns=year19.columns.str.replace(\"TOTAL_TRAFFIC_x\",'TOTAL_TRAFFIC')"
   ]
  },
  {
   "cell_type": "code",
   "execution_count": null,
   "metadata": {},
   "outputs": [],
   "source": [
    "Q1=year19_pickle.groupby('STATION').quantile(q=0.25)\n",
    "q1df = pd.DataFrame(Q1) "
   ]
  },
  {
   "cell_type": "code",
   "execution_count": null,
   "metadata": {},
   "outputs": [],
   "source": [
    "q1df.drop(['ENTRIES','EXITS','ENTRIES_DIFF', 'EXITS_DIFF'],axis=1,inplace = True)\n"
   ]
  },
  {
   "cell_type": "code",
   "execution_count": null,
   "metadata": {},
   "outputs": [],
   "source": [
    "Q3=year19_pickle.groupby('STATION').quantile(q=0.75)\n",
    "q3df = pd.DataFrame(Q3) "
   ]
  },
  {
   "cell_type": "code",
   "execution_count": null,
   "metadata": {},
   "outputs": [],
   "source": [
    "q3df.drop(['ENTRIES','EXITS','ENTRIES_DIFF', 'EXITS_DIFF'],axis=1,inplace = True)"
   ]
  },
  {
   "cell_type": "code",
   "execution_count": null,
   "metadata": {},
   "outputs": [],
   "source": [
    "IQR = pd.DataFrame(q3df['TOTAL_TRAFFIC'] - q1df['TOTAL_TRAFFIC'])"
   ]
  },
  {
   "cell_type": "code",
   "execution_count": null,
   "metadata": {},
   "outputs": [],
   "source": [
    "upper = pd.DataFrame(Mediandf['TOTAL_TRAFFIC'] + 1.5 * IQR['TOTAL_TRAFFIC'])"
   ]
  },
  {
   "cell_type": "code",
   "execution_count": null,
   "metadata": {},
   "outputs": [],
   "source": [
    "lower= pd.DataFrame(Mediandf['TOTAL_TRAFFIC'] - 1.5 * IQR['TOTAL_TRAFFIC'])"
   ]
  },
  {
   "cell_type": "code",
   "execution_count": null,
   "metadata": {},
   "outputs": [],
   "source": [
    "year19_up = pd.merge(year19,upper.reset_index()[['TOTAL_TRAFFIC','STATION']],on='STATION')\n",
    "year19_up.columns=year19_up.columns.str.replace(\"TOTAL_TRAFFIC_x\",'TOTAL_TRAFFIC')\n",
    "year19_up.columns=year19_up.columns.str.replace(\"TOTAL_TRAFFIC_y\",'TOTAL_TRAFFIC_UPPER')\n"
   ]
  },
  {
   "cell_type": "code",
   "execution_count": null,
   "metadata": {},
   "outputs": [],
   "source": [
    "year19_up.loc[year19_up.TOTAL_TRAFFIC > year19_up.TOTAL_TRAFFIC_UPPER,\"TOTAL_TRAFFIC\"] =year19_up.loc[year19_up.TOTAL_TRAFFIC > year19_up.TOTAL_TRAFFIC_UPPER,\"TOTAL_TRAFFIC_MED\"]"
   ]
  },
  {
   "cell_type": "code",
   "execution_count": null,
   "metadata": {},
   "outputs": [],
   "source": [
    "stats = generate_stat(year19_up)"
   ]
  },
  {
   "cell_type": "code",
   "execution_count": null,
   "metadata": {},
   "outputs": [],
   "source": [
    "graph_stats(stats)"
   ]
  },
  {
   "cell_type": "code",
   "execution_count": null,
   "metadata": {},
   "outputs": [],
   "source": [
    "stats = stats.reset_index()"
   ]
  },
  {
   "cell_type": "code",
   "execution_count": null,
   "metadata": {
    "scrolled": true
   },
   "outputs": [],
   "source": [
    "graph_days_per_month(year19_up[year19_up['STATION']== stats['STATION'][0]])"
   ]
  },
  {
   "cell_type": "code",
   "execution_count": null,
   "metadata": {},
   "outputs": [],
   "source": []
  }
 ],
 "metadata": {
  "kernelspec": {
   "display_name": "Python 3",
   "language": "python",
   "name": "python3"
  },
  "language_info": {
   "codemirror_mode": {
    "name": "ipython",
    "version": 3
   },
   "file_extension": ".py",
   "mimetype": "text/x-python",
   "name": "python",
   "nbconvert_exporter": "python",
   "pygments_lexer": "ipython3",
   "version": "3.7.3"
  }
 },
 "nbformat": 4,
 "nbformat_minor": 2
}
